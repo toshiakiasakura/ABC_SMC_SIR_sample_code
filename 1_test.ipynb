{
 "cells": [
  {
   "cell_type": "code",
   "execution_count": 2,
   "id": "e71d67d3-c827-4ac9-a236-97023be923e9",
   "metadata": {},
   "outputs": [],
   "source": [
    "using Pkg"
   ]
  },
  {
   "cell_type": "code",
   "execution_count": 3,
   "id": "0e34eeab-1d16-40a3-a4b7-30befeb268d6",
   "metadata": {},
   "outputs": [
    {
     "name": "stderr",
     "output_type": "stream",
     "text": [
      "\u001b[32m\u001b[1m   Resolving\u001b[22m\u001b[39m package versions...\n",
      "\u001b[32m\u001b[1m  No Changes\u001b[22m\u001b[39m to `C:\\Users\\aflub\\.julia\\environments\\v1.9\\Project.toml`\n",
      "\u001b[32m\u001b[1m  No Changes\u001b[22m\u001b[39m to `C:\\Users\\aflub\\.julia\\environments\\v1.9\\Manifest.toml`\n"
     ]
    }
   ],
   "source": [
    "Pkg.add(\"ApproxBayes\")"
   ]
  },
  {
   "cell_type": "code",
   "execution_count": 1,
   "id": "169855ac-5188-466e-88b5-1fba6b0c2a44",
   "metadata": {},
   "outputs": [],
   "source": [
    "using ApproxBayes\n",
    "using Distributions"
   ]
  },
  {
   "cell_type": "code",
   "execution_count": 2,
   "id": "b5028678-eda2-4bfe-9e0d-35c64d68404e",
   "metadata": {},
   "outputs": [
    {
     "data": {
      "text/plain": [
       "normaldist (generic function with 1 method)"
      ]
     },
     "execution_count": 2,
     "metadata": {},
     "output_type": "execute_result"
    }
   ],
   "source": [
    "function normaldist(params, constants, targetdata)\n",
    "  simdata = rand(Normal(params...), 1000)\n",
    "  ApproxBayes.ksdist(simdata, targetdata), params\n",
    "end"
   ]
  },
  {
   "cell_type": "code",
   "execution_count": 3,
   "id": "9e8712da-8a70-485d-a240-43dba8fc0465",
   "metadata": {},
   "outputs": [
    {
     "name": "stderr",
     "output_type": "stream",
     "text": [
      "\u001b[32mRunning ABC rejection algorithm...  10%|████                          |  ETA: 0:00:11\u001b[39m"
     ]
    },
    {
     "name": "stdout",
     "output_type": "stream",
     "text": [
      "Preparing to run in serial on 1 processor\n"
     ]
    },
    {
     "name": "stderr",
     "output_type": "stream",
     "text": [
      "\u001b[32mRunning ABC rejection algorithm... 100%|██████████████████████████████| Time: 0:00:11\u001b[39m\n"
     ]
    },
    {
     "name": "stdout",
     "output_type": "stream",
     "text": [
      "Number of simulations: 1.05e+05\n",
      "Acceptance ratio: 9.54e-04\n",
      "\n"
     ]
    },
    {
     "data": {
      "text/plain": []
     },
     "execution_count": 3,
     "metadata": {},
     "output_type": "execute_result"
    },
    {
     "name": "stdout",
     "output_type": "stream",
     "text": [
      "Median (95% intervals):\n",
      "Parameter 1: 2.02 (1.95,2.10)\n",
      "Parameter 2: 0.43 (0.32,0.57)\n"
     ]
    }
   ],
   "source": [
    "using Random\n",
    "Random.seed!(1)\n",
    "p1 = 2.0\n",
    "p2 = 0.4\n",
    "targetdata = rand(Normal(p1, p2), 1000)\n",
    "\n",
    "setup = ABCRejection(normaldist, #simulation function\n",
    "  2, # number of parameters\n",
    "  0.1, #target ϵ\n",
    "  Prior([Uniform(0.0, 20.0), Uniform(0.0, 2.0)]); # Prior for each of the parameters\n",
    "  maxiterations = 10^6, #Maximum number of iterations before the algorithm terminates\n",
    "  )\n",
    "\n",
    "# run ABC inference\n",
    "rejection = runabc(setup, targetdata, verbose=true, progress=true)"
   ]
  },
  {
   "cell_type": "code",
   "execution_count": 4,
   "id": "2c5def9b-3af0-4bc3-8757-7123a6303359",
   "metadata": {},
   "outputs": [
    {
     "name": "stdout",
     "output_type": "stream",
     "text": [
      "2.0160251259458937\n",
      "0.43406808881752135\n"
     ]
    }
   ],
   "source": [
    "rejection.parameters[:,1] |> median |> println\n",
    "rejection.parameters[:,2] |> median |> println"
   ]
  },
  {
   "cell_type": "code",
   "execution_count": 7,
   "id": "ac99f589-a70a-4584-901a-c6f85a085e40",
   "metadata": {},
   "outputs": [
    {
     "data": {
      "text/plain": [
       "100"
      ]
     },
     "execution_count": 7,
     "metadata": {},
     "output_type": "execute_result"
    }
   ],
   "source": [
    "length(rejection.parameters[:, 1])"
   ]
  },
  {
   "cell_type": "code",
   "execution_count": 8,
   "id": "d9cbe6e7-a68b-4c13-ad3e-bad71e8414eb",
   "metadata": {},
   "outputs": [
    {
     "name": "stdout",
     "output_type": "stream",
     "text": [
      "ParticleRejection\n",
      "  params: Array{Float64}((2,)) [1.9702844204196324, 0.4082916638262004]\n",
      "  distance: Float64 0.07000000000000003\n",
      "  other: Array{Float64}((2,)) [1.9702844204196324, 0.4082916638262004]\n"
     ]
    }
   ],
   "source": [
    "rejection.particles[1] |> dump"
   ]
  },
  {
   "cell_type": "code",
   "execution_count": 9,
   "id": "b548bae0-38a6-4bc2-8fe0-9277f83e8fa2",
   "metadata": {},
   "outputs": [
    {
     "data": {
      "text/plain": [
       "Nothing"
      ]
     },
     "execution_count": 9,
     "metadata": {},
     "output_type": "execute_result"
    }
   ],
   "source": [
    "params = rejection.parameters\n",
    "distance =  map(x -> x.distance, rejection.particles)\n",
    "Nothing"
   ]
  }
 ],
 "metadata": {
  "kernelspec": {
   "display_name": "Julia 1.9.0",
   "language": "julia",
   "name": "julia-1.9"
  },
  "language_info": {
   "file_extension": ".jl",
   "mimetype": "application/julia",
   "name": "julia",
   "version": "1.9.0"
  }
 },
 "nbformat": 4,
 "nbformat_minor": 5
}
